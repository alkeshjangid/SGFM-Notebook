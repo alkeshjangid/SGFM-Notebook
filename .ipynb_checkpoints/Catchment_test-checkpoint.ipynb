{
 "metadata": {
  "name": "",
  "signature": "sha256:64a1c846e6c70ebac5e9f191a1fd52ad7bbe4edd86dfbb1f27bed8eb9f39389a"
 },
 "nbformat": 3,
 "nbformat_minor": 0,
 "worksheets": [
  {
   "cells": [
    {
     "cell_type": "code",
     "collapsed": false,
     "input": [
      "import datetime as dt\n",
      "start = dt.datetime.now()\n",
      "import os\n",
      "import sys\n",
      "from osgeo import gdal\n",
      "from gdalconst import *\n",
      "import matplotlib.pyplot as plt"
     ],
     "language": "python",
     "metadata": {},
     "outputs": [],
     "prompt_number": 4
    },
    {
     "cell_type": "code",
     "collapsed": false,
     "input": [
      "from IPython.display import display, Math, Latex, Javascript\n",
      "from IPython.core.display import Image\n",
      "import os\n",
      "import sys\n",
      "sys.path.append(os.path.join(os.environ['GISBASE'], 'etc', 'python', 'bin'))\n",
      "#sys.path.append('/Applications/GRASS-6.4.app/Contents/MacOS/etc/python')\n",
      "#sys.path.append('/Applications/GRASS-6.4.app/Contents/MacOS/bin')\n",
      "#sys.path.append('/Applications/GRASS-6.4.app/Contents/MacOS/scripts')\n",
      "#sys.path.append('/Applications/GRASS-6.4.app/Contents/MacOS/bin')\n",
      "import grass\n",
      "import grass.script as grass\n",
      "import grass.script as g\n",
      "import grass.script.setup as gsetup\n",
      "import getpass\n",
      "import pandas as pd\n",
      "import tempfile"
     ],
     "language": "python",
     "metadata": {},
     "outputs": [],
     "prompt_number": 21
    },
    {
     "cell_type": "code",
     "collapsed": false,
     "input": [
      "def makeImage(mapname='', maptype='raster', vcolor='grey', vsize=1, maptitle='', n=223000, s=218000, w=632000, e=638000, gridsize=1000, title_at=(45,95), legend_at=(22,65,8,10)):\n",
      "    !rm -rf {mapname}.png\n",
      "    !d.mon start=cairo output={mapname}.png\n",
      "    if maptype=='raster':\n",
      "        !g.region rast={mapname} n={n} s={s} w={w} e={e} -a #p\n",
      "        !d.rast map={mapname} --q\n",
      "        !d.legend at={legend_at[0]},{legend_at[1]},{legend_at[2]},{legend_at[3]} map={mapname} \n",
      "    if maptype=='vector':\n",
      "        !g.region vect={mapname} n={n} s={s} w={w} e={e} -a #p\n",
      "        !d.vect map={mapname} color={vcolor} size={vsize} --q\n",
      "    !d.grid size={gridsize} color=blue\n",
      "    !d.text at={title_at[0]},{title_at[1]} text={maptitle} color=red\n",
      "    !d.mon stop=cairo"
     ],
     "language": "python",
     "metadata": {},
     "outputs": [],
     "prompt_number": 20
    },
    {
     "cell_type": "code",
     "collapsed": false,
     "input": [
      "GISDBASE = '../SGFM-grass'\n",
      "!g.gisenv set=\"GISDBASE={GISDBASE}\"\n",
      "!g.gisenv set=\"LOCATION_NAME=test\"\n",
      "!g.gisenv set=\"MAPSET=PERMANENT\"\n",
      "#!r.in.xyz input=../SGFM-data/srtm_63_18/sim_region.csv output=../SGFM-data/srtm_63_18/sim_dem"
     ],
     "language": "python",
     "metadata": {},
     "outputs": [
      {
       "output_type": "stream",
       "stream": "stdout",
       "text": [
        "/bin/sh: -c: line 0: syntax error near unexpected token `gisbase,'\r\n",
        "/bin/sh: -c: line 0: `g.gisenv.setup.init(gisbase, gisdb, location, mapset)'\r\n"
       ]
      }
     ],
     "prompt_number": 18
    },
    {
     "cell_type": "code",
     "collapsed": false,
     "input": [
      "!g.mapset mapset=PERMANENT location=SGFM-grass"
     ],
     "language": "python",
     "metadata": {},
     "outputs": []
    }
   ],
   "metadata": {}
  }
 ]
}